{
 "cells": [
  {
   "cell_type": "markdown",
   "metadata": {},
   "source": [
    "## 1. 자카드 유사도"
   ]
  },
  {
   "cell_type": "code",
   "execution_count": null,
   "metadata": {},
   "outputs": [],
   "source": [
    "import pandas as pd\n",
    "import numpy as np\n",
    "import os"
   ]
  },
  {
   "cell_type": "code",
   "execution_count": null,
   "metadata": {},
   "outputs": [],
   "source": [
    "#tfidf로 탑 10 뽑기\n",
    "from math import log10\n",
    "from konlpy.tag import Okt\n",
    "\n",
    "# =======================================\n",
    "# -- TF-IDF function\n",
    "# =======================================\n",
    "def f(t, d):\n",
    "    # d is document == tokens\n",
    "    return d.count(t)\n",
    "\n",
    "def tf(t, d):\n",
    "    # d is document == tokens\n",
    "    return 0.5 + 0.5*f(t,d)/max([f(w,d) for w in d])\n",
    "\n",
    "def idf(t, D):\n",
    "    # D is documents == document list\n",
    "    numerator = len(D)\n",
    "    denominator = 1 + len([ True for d in D if t in d])\n",
    "    return log10(numerator/denominator)\n",
    "\n",
    "def tfidf(t, d, D):\n",
    "    return tf(t,d)*idf(t, D)\n",
    "\n",
    "def tokenizer(d):\n",
    "    okt = Okt()\n",
    "    def keyword_extractor(text):\n",
    "        tokens = okt.phrases(text)\n",
    "        tokens = [token for token in tokens if len(token) > 1]  # 한 글자인 단어는 제외\n",
    "        count_dict = [(token, text.count(token)) for token in tokens]\n",
    "        ranked_words = sorted(count_dict, key=lambda x: x[1], reverse=True)[:20]\n",
    "        return [keyword for keyword, freq in ranked_words]\n",
    "    return keyword_extractor(d)\n",
    "\n",
    "def tfidfScorer(D):\n",
    "    tokenized_D = [tokenizer(d) for d in D]\n",
    "    result = []\n",
    "    for d in tokenized_D:\n",
    "        result.append([t for t in d])\n",
    "    return result"
   ]
  },
  {
   "cell_type": "code",
   "execution_count": null,
   "metadata": {},
   "outputs": [],
   "source": [
    "#탑 10뽑아내기  #해당 명사들이 jaccard 유사도의 input으로 추가됨\n",
    "tfidf = list()\n",
    "for id, s in enumerate( tfidfScorer(df['answer']) ):\n",
    "    s = sorted(s, key=lambda x:x[1], reverse=True)\n",
    "    tfidf.append(s[:10])"
   ]
  },
  {
   "cell_type": "code",
   "execution_count": null,
   "metadata": {},
   "outputs": [],
   "source": [
    "def jaccard(sen1, sen2):\n",
    "    a = set(sen1) \n",
    "    b = set(sen2) \n",
    "    aUb = a.union(b) \n",
    "    aNb = a.intersection(b) \n",
    "    p = len(aNb) / len(aUb) \n",
    "    return p"
   ]
  },
  {
   "cell_type": "markdown",
   "metadata": {},
   "source": [
    "## 2. Document similarity(w2v을 이용한 문장 간 유사도)"
   ]
  },
  {
   "cell_type": "code",
   "execution_count": null,
   "metadata": {},
   "outputs": [],
   "source": [
    "# word2vec 임베딩 모델 로드\n",
    "from sklearn.externals import joblib\n",
    "embedding_model = joblib.load(\"./skipgram_ver1_1.sav\")"
   ]
  },
  {
   "cell_type": "code",
   "execution_count": null,
   "metadata": {},
   "outputs": [],
   "source": [
    "def docsim(a,b):\n",
    "    index2word_set = set(embedding_model.wv.index2word)  \n",
    "\n",
    "    def avg_feature_vector(sentence, model, num_features, index2word_set):  #w2v을 이용한 평균 임베딩 벡터 도출 함수\n",
    "        words = str(sentence).split(\" \")\n",
    "        feature_vec = np.zeros((num_features, ), dtype='float32')\n",
    "        n_words = 0\n",
    "        for word in words:\n",
    "            if word in index2word_set:\n",
    "                n_words += 1\n",
    "                feature_vec = np.add(feature_vec, model[word])\n",
    "        if (n_words > 0):\n",
    "            feature_vec = np.divide(feature_vec, n_words)\n",
    "        return feature_vec\n",
    "    s1_afv = avg_feature_vector(a, model=embedding_model, num_features=100, index2word_set=index2word_set)  \n",
    "    s2_afv = avg_feature_vector(b, model=embedding_model, num_features=100, index2word_set=index2word_set)\n",
    "    sim = 1 - spatial.distance.cosine(s1_afv, s2_afv)  #코사인 유사도 계산\n",
    "    return sim"
   ]
  },
  {
   "cell_type": "markdown",
   "metadata": {},
   "source": [
    "## 3. TF-IDF 행렬을 이용한 코사인 유사도"
   ]
  },
  {
   "cell_type": "code",
   "execution_count": null,
   "metadata": {},
   "outputs": [],
   "source": [
    "def get_recom(a,b):    \n",
    "    data = pd.DataFrame(data=[a,b], index=range(0,2),columns = [\"o\"])\n",
    "    tfidf_matrix = tfidf.fit_transform(data[\"o\"])\n",
    "    \n",
    "    cosine_sim = linear_kernel(tfidf_matrix, tfidf_matrix)\n",
    "    final = cosine_sim[0][1]\n",
    "    return final"
   ]
  }
 ],
 "metadata": {
  "kernelspec": {
   "display_name": "Python 3",
   "language": "python",
   "name": "python3"
  },
  "language_info": {
   "codemirror_mode": {
    "name": "ipython",
    "version": 3
   },
   "file_extension": ".py",
   "mimetype": "text/x-python",
   "name": "python",
   "nbconvert_exporter": "python",
   "pygments_lexer": "ipython3",
   "version": "3.5.6"
  }
 },
 "nbformat": 4,
 "nbformat_minor": 2
}

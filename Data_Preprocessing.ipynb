{
 "cells": [
  {
   "cell_type": "code",
   "execution_count": 86,
   "metadata": {},
   "outputs": [],
   "source": [
    "import pandas as pd"
   ]
  },
  {
   "cell_type": "code",
   "execution_count": 87,
   "metadata": {},
   "outputs": [
    {
     "data": {
      "text/html": [
       "<div>\n",
       "<style scoped>\n",
       "    .dataframe tbody tr th:only-of-type {\n",
       "        vertical-align: middle;\n",
       "    }\n",
       "\n",
       "    .dataframe tbody tr th {\n",
       "        vertical-align: top;\n",
       "    }\n",
       "\n",
       "    .dataframe thead th {\n",
       "        text-align: right;\n",
       "    }\n",
       "</style>\n",
       "<table border=\"1\" class=\"dataframe\">\n",
       "  <thead>\n",
       "    <tr style=\"text-align: right;\">\n",
       "      <th></th>\n",
       "      <th>Unnamed: 0</th>\n",
       "      <th>answer</th>\n",
       "      <th>category</th>\n",
       "      <th>question</th>\n",
       "      <th>title</th>\n",
       "      <th>url</th>\n",
       "    </tr>\n",
       "  </thead>\n",
       "  <tbody>\n",
       "    <tr>\n",
       "      <th>0</th>\n",
       "      <td>0</td>\n",
       "      <td>2번째 답변\\n한국투자증권님 프로필 이미지\\n한국투자증권 님 답변 지식파트너 친구\\...</td>\n",
       "      <td>주식, 증권</td>\n",
       "      <td>시간외 단일가 매매(4시~6시) 1000주를 주문했는데 112주만 체결되고 나머지는...</td>\n",
       "      <td>시간외 단일가 매매</td>\n",
       "      <td>https://kin.naver.com/qna/mydetail.nhn?dirId=4...</td>\n",
       "    </tr>\n",
       "    <tr>\n",
       "      <th>1</th>\n",
       "      <td>1</td>\n",
       "      <td>2번째 답변\\n한국투자증권 님 답변 지식파트너 친구\\n채택답변수 3,752\\n질문자...</td>\n",
       "      <td>주식, 증권</td>\n",
       "      <td>안녕하세요?\\n제가 미국주식에 관심이 생겨서 투자를 생각하고 있습니다.\\n그런데 제...</td>\n",
       "      <td>해외 주식관련 질문드립니다.</td>\n",
       "      <td>https://kin.naver.com/qna/mydetail.nhn?dirId=4...</td>\n",
       "    </tr>\n",
       "    <tr>\n",
       "      <th>2</th>\n",
       "      <td>2</td>\n",
       "      <td>1번째 답변\\n한국투자증권 님 답변 지식파트너 친구\\n채택답변수 3,752\\n질문자...</td>\n",
       "      <td>주식, 증권</td>\n",
       "      <td>NaN</td>\n",
       "      <td>카카오뱅크 주식 수수료 면제 질문있습니다\\n\\n우선 계좌 개설 후 주식 계좌로 5만...</td>\n",
       "      <td>https://kin.naver.com/qna/mydetail.nhn?dirId=4...</td>\n",
       "    </tr>\n",
       "    <tr>\n",
       "      <th>3</th>\n",
       "      <td>3</td>\n",
       "      <td>1번째 답변\\n한국투자증권 님 답변 지식파트너 친구\\n채택답변수 3,752\\n안녕하...</td>\n",
       "      <td>저축성보험</td>\n",
       "      <td>직장인인데 10인 미만 사업장이라 아직 퇴직 연금 계좌가 없습니다. 그런 상태인데 ...</td>\n",
       "      <td>퇴직연금에 가입돼있어야 IRP 가입 가능한가요?</td>\n",
       "      <td>https://kin.naver.com/qna/mydetail.nhn?dirId=4...</td>\n",
       "    </tr>\n",
       "    <tr>\n",
       "      <th>4</th>\n",
       "      <td>4</td>\n",
       "      <td>1번째 답변\\n한국투자증권님 프로필 이미지\\n한국투자증권 님 답변 지식파트너 친구\\...</td>\n",
       "      <td>주식, 증권</td>\n",
       "      <td>우리은행 계좌를 만들려고하는데 20일 제한이 걸렸더라구요\\n제가 7월19일에 네이버...</td>\n",
       "      <td>은행계좌문의</td>\n",
       "      <td>https://kin.naver.com/qna/mydetail.nhn?dirId=4...</td>\n",
       "    </tr>\n",
       "  </tbody>\n",
       "</table>\n",
       "</div>"
      ],
      "text/plain": [
       "   Unnamed: 0                                             answer category  \\\n",
       "0           0  2번째 답변\\n한국투자증권님 프로필 이미지\\n한국투자증권 님 답변 지식파트너 친구\\...   주식, 증권   \n",
       "1           1  2번째 답변\\n한국투자증권 님 답변 지식파트너 친구\\n채택답변수 3,752\\n질문자...   주식, 증권   \n",
       "2           2  1번째 답변\\n한국투자증권 님 답변 지식파트너 친구\\n채택답변수 3,752\\n질문자...   주식, 증권   \n",
       "3           3  1번째 답변\\n한국투자증권 님 답변 지식파트너 친구\\n채택답변수 3,752\\n안녕하...    저축성보험   \n",
       "4           4  1번째 답변\\n한국투자증권님 프로필 이미지\\n한국투자증권 님 답변 지식파트너 친구\\...   주식, 증권   \n",
       "\n",
       "                                            question  \\\n",
       "0  시간외 단일가 매매(4시~6시) 1000주를 주문했는데 112주만 체결되고 나머지는...   \n",
       "1  안녕하세요?\\n제가 미국주식에 관심이 생겨서 투자를 생각하고 있습니다.\\n그런데 제...   \n",
       "2                                                NaN   \n",
       "3  직장인인데 10인 미만 사업장이라 아직 퇴직 연금 계좌가 없습니다. 그런 상태인데 ...   \n",
       "4  우리은행 계좌를 만들려고하는데 20일 제한이 걸렸더라구요\\n제가 7월19일에 네이버...   \n",
       "\n",
       "                                               title  \\\n",
       "0                                         시간외 단일가 매매   \n",
       "1                                    해외 주식관련 질문드립니다.   \n",
       "2  카카오뱅크 주식 수수료 면제 질문있습니다\\n\\n우선 계좌 개설 후 주식 계좌로 5만...   \n",
       "3                         퇴직연금에 가입돼있어야 IRP 가입 가능한가요?   \n",
       "4                                             은행계좌문의   \n",
       "\n",
       "                                                 url  \n",
       "0  https://kin.naver.com/qna/mydetail.nhn?dirId=4...  \n",
       "1  https://kin.naver.com/qna/mydetail.nhn?dirId=4...  \n",
       "2  https://kin.naver.com/qna/mydetail.nhn?dirId=4...  \n",
       "3  https://kin.naver.com/qna/mydetail.nhn?dirId=4...  \n",
       "4  https://kin.naver.com/qna/mydetail.nhn?dirId=4...  "
      ]
     },
     "execution_count": 87,
     "metadata": {},
     "output_type": "execute_result"
    }
   ],
   "source": [
    "data = pd.read_csv(\"new_2.csv\")\n",
    "data.head()"
   ]
  },
  {
   "cell_type": "code",
   "execution_count": 88,
   "metadata": {},
   "outputs": [],
   "source": [
    "df = data.drop(['Unnamed: 0'], axis=1)"
   ]
  },
  {
   "cell_type": "code",
   "execution_count": 89,
   "metadata": {},
   "outputs": [
    {
     "data": {
      "text/plain": [
       "Index(['answer', 'category', 'question', 'title', 'url'], dtype='object')"
      ]
     },
     "execution_count": 89,
     "metadata": {},
     "output_type": "execute_result"
    }
   ],
   "source": [
    "df.columns"
   ]
  },
  {
   "cell_type": "code",
   "execution_count": 90,
   "metadata": {},
   "outputs": [
    {
     "data": {
      "text/html": [
       "<div>\n",
       "<style scoped>\n",
       "    .dataframe tbody tr th:only-of-type {\n",
       "        vertical-align: middle;\n",
       "    }\n",
       "\n",
       "    .dataframe tbody tr th {\n",
       "        vertical-align: top;\n",
       "    }\n",
       "\n",
       "    .dataframe thead th {\n",
       "        text-align: right;\n",
       "    }\n",
       "</style>\n",
       "<table border=\"1\" class=\"dataframe\">\n",
       "  <thead>\n",
       "    <tr style=\"text-align: right;\">\n",
       "      <th></th>\n",
       "      <th>answer</th>\n",
       "      <th>category</th>\n",
       "      <th>question</th>\n",
       "      <th>title</th>\n",
       "      <th>url</th>\n",
       "    </tr>\n",
       "  </thead>\n",
       "  <tbody>\n",
       "    <tr>\n",
       "      <th>0</th>\n",
       "      <td>2번째 답변\\n한국투자증권님 프로필 이미지\\n한국투자증권 님 답변 지식파트너 친구\\...</td>\n",
       "      <td>주식, 증권</td>\n",
       "      <td>시간외 단일가 매매(4시~6시) 1000주를 주문했는데 112주만 체결되고 나머지는...</td>\n",
       "      <td>시간외 단일가 매매</td>\n",
       "      <td>https://kin.naver.com/qna/mydetail.nhn?dirId=4...</td>\n",
       "    </tr>\n",
       "    <tr>\n",
       "      <th>1</th>\n",
       "      <td>2번째 답변\\n한국투자증권 님 답변 지식파트너 친구\\n채택답변수 3,752\\n질문자...</td>\n",
       "      <td>주식, 증권</td>\n",
       "      <td>안녕하세요?\\n제가 미국주식에 관심이 생겨서 투자를 생각하고 있습니다.\\n그런데 제...</td>\n",
       "      <td>해외 주식관련 질문드립니다.</td>\n",
       "      <td>https://kin.naver.com/qna/mydetail.nhn?dirId=4...</td>\n",
       "    </tr>\n",
       "    <tr>\n",
       "      <th>2</th>\n",
       "      <td>1번째 답변\\n한국투자증권 님 답변 지식파트너 친구\\n채택답변수 3,752\\n질문자...</td>\n",
       "      <td>주식, 증권</td>\n",
       "      <td>NaN</td>\n",
       "      <td>카카오뱅크 주식 수수료 면제 질문있습니다\\n\\n우선 계좌 개설 후 주식 계좌로 5만...</td>\n",
       "      <td>https://kin.naver.com/qna/mydetail.nhn?dirId=4...</td>\n",
       "    </tr>\n",
       "    <tr>\n",
       "      <th>3</th>\n",
       "      <td>1번째 답변\\n한국투자증권 님 답변 지식파트너 친구\\n채택답변수 3,752\\n안녕하...</td>\n",
       "      <td>저축성보험</td>\n",
       "      <td>직장인인데 10인 미만 사업장이라 아직 퇴직 연금 계좌가 없습니다. 그런 상태인데 ...</td>\n",
       "      <td>퇴직연금에 가입돼있어야 IRP 가입 가능한가요?</td>\n",
       "      <td>https://kin.naver.com/qna/mydetail.nhn?dirId=4...</td>\n",
       "    </tr>\n",
       "    <tr>\n",
       "      <th>4</th>\n",
       "      <td>1번째 답변\\n한국투자증권님 프로필 이미지\\n한국투자증권 님 답변 지식파트너 친구\\...</td>\n",
       "      <td>주식, 증권</td>\n",
       "      <td>우리은행 계좌를 만들려고하는데 20일 제한이 걸렸더라구요\\n제가 7월19일에 네이버...</td>\n",
       "      <td>은행계좌문의</td>\n",
       "      <td>https://kin.naver.com/qna/mydetail.nhn?dirId=4...</td>\n",
       "    </tr>\n",
       "  </tbody>\n",
       "</table>\n",
       "</div>"
      ],
      "text/plain": [
       "                                              answer category  \\\n",
       "0  2번째 답변\\n한국투자증권님 프로필 이미지\\n한국투자증권 님 답변 지식파트너 친구\\...   주식, 증권   \n",
       "1  2번째 답변\\n한국투자증권 님 답변 지식파트너 친구\\n채택답변수 3,752\\n질문자...   주식, 증권   \n",
       "2  1번째 답변\\n한국투자증권 님 답변 지식파트너 친구\\n채택답변수 3,752\\n질문자...   주식, 증권   \n",
       "3  1번째 답변\\n한국투자증권 님 답변 지식파트너 친구\\n채택답변수 3,752\\n안녕하...    저축성보험   \n",
       "4  1번째 답변\\n한국투자증권님 프로필 이미지\\n한국투자증권 님 답변 지식파트너 친구\\...   주식, 증권   \n",
       "\n",
       "                                            question  \\\n",
       "0  시간외 단일가 매매(4시~6시) 1000주를 주문했는데 112주만 체결되고 나머지는...   \n",
       "1  안녕하세요?\\n제가 미국주식에 관심이 생겨서 투자를 생각하고 있습니다.\\n그런데 제...   \n",
       "2                                                NaN   \n",
       "3  직장인인데 10인 미만 사업장이라 아직 퇴직 연금 계좌가 없습니다. 그런 상태인데 ...   \n",
       "4  우리은행 계좌를 만들려고하는데 20일 제한이 걸렸더라구요\\n제가 7월19일에 네이버...   \n",
       "\n",
       "                                               title  \\\n",
       "0                                         시간외 단일가 매매   \n",
       "1                                    해외 주식관련 질문드립니다.   \n",
       "2  카카오뱅크 주식 수수료 면제 질문있습니다\\n\\n우선 계좌 개설 후 주식 계좌로 5만...   \n",
       "3                         퇴직연금에 가입돼있어야 IRP 가입 가능한가요?   \n",
       "4                                             은행계좌문의   \n",
       "\n",
       "                                                 url  \n",
       "0  https://kin.naver.com/qna/mydetail.nhn?dirId=4...  \n",
       "1  https://kin.naver.com/qna/mydetail.nhn?dirId=4...  \n",
       "2  https://kin.naver.com/qna/mydetail.nhn?dirId=4...  \n",
       "3  https://kin.naver.com/qna/mydetail.nhn?dirId=4...  \n",
       "4  https://kin.naver.com/qna/mydetail.nhn?dirId=4...  "
      ]
     },
     "execution_count": 90,
     "metadata": {},
     "output_type": "execute_result"
    }
   ],
   "source": [
    "df.head()"
   ]
  },
  {
   "cell_type": "code",
   "execution_count": 91,
   "metadata": {},
   "outputs": [],
   "source": [
    "df = data.fillna(\"없음\")"
   ]
  },
  {
   "cell_type": "markdown",
   "metadata": {},
   "source": [
    "# answer 전처리"
   ]
  },
  {
   "cell_type": "code",
   "execution_count": 92,
   "metadata": {},
   "outputs": [],
   "source": [
    "# first = []\n",
    "# second = []\n",
    "# third = []\n",
    "# fourth = []\n",
    "# etc = []\n",
    "\n",
    "# for i in df['answer']:\n",
    "#     a = i.split('\\n')\n",
    "#     first.append(a[0])\n",
    "#     second.append(a[1])\n",
    "#     third.append(a[2])\n",
    "#     try:\n",
    "#         fourth.append(a[3])\n",
    "#     except:\n",
    "#         pass\n",
    "#     try:\n",
    "#         etc.append(a[4:])\n",
    "#     except:\n",
    "#         pass"
   ]
  },
  {
   "cell_type": "code",
   "execution_count": 93,
   "metadata": {},
   "outputs": [],
   "source": [
    "# #첫번째 삭제해도 됨\n",
    "# print(set(first))"
   ]
  },
  {
   "cell_type": "code",
   "execution_count": 94,
   "metadata": {},
   "outputs": [],
   "source": [
    "# #두번째도 삭제해도 됨\n",
    "# print(set(second))"
   ]
  },
  {
   "cell_type": "code",
   "execution_count": 95,
   "metadata": {},
   "outputs": [],
   "source": [
    "# #세번째도 삭제해도 됨\n",
    "# print(set(third))"
   ]
  },
  {
   "cell_type": "code",
   "execution_count": 96,
   "metadata": {},
   "outputs": [],
   "source": [
    "# #네번째부터 삭제하면 안됨(섞여 있음)\n",
    "# print(set(fourth))"
   ]
  },
  {
   "cell_type": "code",
   "execution_count": 97,
   "metadata": {},
   "outputs": [],
   "source": [
    "# print(etc[:5])"
   ]
  },
  {
   "cell_type": "markdown",
   "metadata": {},
   "source": [
    "### 돌리는 부분"
   ]
  },
  {
   "cell_type": "code",
   "execution_count": 98,
   "metadata": {},
   "outputs": [
    {
     "name": "stderr",
     "output_type": "stream",
     "text": [
      "C:\\Users\\USER\\Anaconda3\\lib\\site-packages\\ipykernel_launcher.py:5: SettingWithCopyWarning: \n",
      "A value is trying to be set on a copy of a slice from a DataFrame\n",
      "\n",
      "See the caveats in the documentation: http://pandas.pydata.org/pandas-docs/stable/indexing.html#indexing-view-versus-copy\n",
      "  \"\"\"\n"
     ]
    }
   ],
   "source": [
    "## 3번째까지 삭제\n",
    "for n, i in enumerate(df['answer']):\n",
    "    a = i.split('\\n')[3: ]\n",
    "    b = \"\\n\".join(a)\n",
    "    df['answer'][n] = str(b)"
   ]
  },
  {
   "cell_type": "code",
   "execution_count": null,
   "metadata": {},
   "outputs": [],
   "source": [
    "# for i in df['answer']:\n",
    "#     if i.find('안녕') >0:\n",
    "#         print(i[:i.find('안녕')])\n",
    "#         print('---')\n",
    "#         print(i[i.find('안녕'): i.find('안녕')+5])\n",
    "#         print(\"------------------------------\")"
   ]
  },
  {
   "cell_type": "code",
   "execution_count": null,
   "metadata": {},
   "outputs": [],
   "source": [
    "# 안녕의 위치+5번째까지 앞에 데이터를 모두 자르면 됨\n",
    "for n, i in enumerate(df['answer']):\n",
    "    if i.find('안녕') >=0:\n",
    "        df['answer'][n] = i[i.find('안녕')+5:]"
   ]
  },
  {
   "cell_type": "code",
   "execution_count": null,
   "metadata": {},
   "outputs": [],
   "source": [
    "#답변 뒤에 2019.08.06부터 문자열을 제거하면 됨"
   ]
  },
  {
   "cell_type": "code",
   "execution_count": null,
   "metadata": {},
   "outputs": [],
   "source": [
    "for i in range(len(df)):\n",
    "    ls = df['answer'][i].split('\\n')\n",
    "    for n, j in enumerate(ls):\n",
    "        if (j.startswith('20') == True) & (len(j)==11) : #20xx.xx.xx의 인덱스 위치\n",
    "            df['answer'][i] = str('\\n'.join(ls[:n]))\n",
    "            break #조건을 만족하면 안에 있는 for문을 벗어남"
   ]
  },
  {
   "cell_type": "markdown",
   "metadata": {},
   "source": [
    "# 정규표현식- 특수문자 제거"
   ]
  },
  {
   "cell_type": "markdown",
   "metadata": {},
   "source": [
    "#### answer"
   ]
  },
  {
   "cell_type": "code",
   "execution_count": null,
   "metadata": {},
   "outputs": [],
   "source": [
    "import re"
   ]
  },
  {
   "cell_type": "code",
   "execution_count": null,
   "metadata": {},
   "outputs": [],
   "source": [
    "#모든 특수문자 리스트\n",
    "l = []\n",
    "l = df['answer'].apply(lambda x: re.findall('[^가-힣a-zA-Z0-9_\\n\\(\\),. ]', str(x)))"
   ]
  },
  {
   "cell_type": "code",
   "execution_count": null,
   "metadata": {},
   "outputs": [],
   "source": [
    "ss = set()\n",
    "for i in l:\n",
    "    ss = ss | set(i)"
   ]
  },
  {
   "cell_type": "code",
   "execution_count": null,
   "metadata": {},
   "outputs": [],
   "source": [
    "ss = list(ss)"
   ]
  },
  {
   "cell_type": "code",
   "execution_count": null,
   "metadata": {},
   "outputs": [],
   "source": [
    "last = str()\n",
    "for k in ss:\n",
    "    last += k"
   ]
  },
  {
   "cell_type": "code",
   "execution_count": null,
   "metadata": {},
   "outputs": [],
   "source": [
    "#최종적인 특수문자 리스트\n",
    "last"
   ]
  },
  {
   "cell_type": "code",
   "execution_count": null,
   "metadata": {},
   "outputs": [],
   "source": [
    "#추가할 특수기호가 있으면 []사이에 추가하면 됨!\n",
    "df['answer'] = df['answer'].apply(lambda x: re.sub('[▶〔母ㅅ’▸②#【～］新限□〕下\\\\③居!`‧\"ㅠ前⑥◈內ㄷ｛±】‘ㅣ⑧無ㄴ※-▣\\u200b➝∼停●ㅏ➡⑨◇→呼&社『ㅎㅇ｝◦ⓐ×◎♣+☆○|保⊙è㎒ㄱ\\u3000ㆍ所月?先官･△☞^:．①美@▼證④＊㎝◑⇒;≡ㅡ\\xa0{§/中■舊Ⅱ「▷▲調☎♪｣㎡~ⓔⅠⅢⓓ▒*․⑤♠↔$」［ㄹ有•÷“』⑩ⓑ★⑵◆留⑦民ㅜ憑＋ⓒ寶例⑴㈜\\'=}·ㅁ￦↑%¤♬座>”☏↓◐<]', '', str(x)))"
   ]
  },
  {
   "cell_type": "code",
   "execution_count": null,
   "metadata": {},
   "outputs": [],
   "source": [
    "#괄호는 띄어쓰기 하나로 바꿈\n",
    "df['answer'] = df['answer'].apply(lambda x: re.sub('[\\(\\)]', ' ', str(x)))\n",
    "df['answer'] = df['answer'].apply(lambda x: re.sub('[\\[]', ' ', str(x)))\n",
    "df['answer'] = df['answer'].apply(lambda x: re.sub('[\\]]', ' ', str(x)))\n",
    "df['answer'] = df['answer'].apply(lambda x: re.sub('[,]', ' ', str(x)))\n",
    "df['answer'] = df['answer'].apply(lambda x: re.sub('[.]', ' ', str(x)))"
   ]
  },
  {
   "cell_type": "code",
   "execution_count": null,
   "metadata": {},
   "outputs": [],
   "source": [
    "df['answer'][0]"
   ]
  },
  {
   "cell_type": "markdown",
   "metadata": {},
   "source": [
    "### question"
   ]
  },
  {
   "cell_type": "code",
   "execution_count": null,
   "metadata": {},
   "outputs": [],
   "source": [
    "#모든 특수문자 리스트\n",
    "l = []\n",
    "l = df['question'].apply(lambda x: re.findall('[^가-힣a-zA-Z0-9_\\n\\(\\) ,.]', str(x)))"
   ]
  },
  {
   "cell_type": "code",
   "execution_count": null,
   "metadata": {},
   "outputs": [],
   "source": [
    "ss = set()\n",
    "for i in l:\n",
    "    ss = ss | set(i)\n",
    "ss = list(ss)"
   ]
  },
  {
   "cell_type": "code",
   "execution_count": null,
   "metadata": {},
   "outputs": [],
   "source": [
    "last = str()\n",
    "for k in ss:\n",
    "    last += k"
   ]
  },
  {
   "cell_type": "code",
   "execution_count": null,
   "metadata": {},
   "outputs": [],
   "source": [
    "#최종적인 특수문자 리스트\n",
    "last"
   ]
  },
  {
   "cell_type": "code",
   "execution_count": null,
   "metadata": {},
   "outputs": [],
   "source": [
    "#추가할 특수기호가 있으면 []사이에 추가하면 됨!\n",
    "df['question'] = df['question'].apply(lambda x: re.sub('[▶①♡@ㅅ’#♥▼～②＊□ㅌ\\\\＼;③ㅡ!`/\"▽？ㅍㅠ■ㄷㅉㅂⅡ‘ㅈ甲ㅣㅘ☎ㄴ<※-㎡~＃ㅓ∼ㅋ*●․ㅏ‥$ㄹ→…安ᆢ•&ᆞ“ㅎㅇ★ㄲㅖㅗ☜ㅜ₩×◎+☆ㅕ○ㄱ人\\'=ㆍㅐﾟㅛ·�ㅁㅔㅊ月?%>”ㅆㅃ^:]', '', str(x)))"
   ]
  },
  {
   "cell_type": "code",
   "execution_count": null,
   "metadata": {},
   "outputs": [],
   "source": [
    "#괄호는 띄어쓰기 하나로 바꿈\n",
    "df['question'] = df['question'].apply(lambda x: re.sub('[\\(\\)]', ' ', str(x)))\n",
    "df['question'] = df['question'].apply(lambda x: re.sub('[\\[]', ' ', str(x)))\n",
    "df['question'] = df['question'].apply(lambda x: re.sub('[\\]]', ' ', str(x)))\n",
    "df['question'] = df['question'].apply(lambda x: re.sub('[,]', ' ', str(x)))\n",
    "df['question'] = df['question'].apply(lambda x: re.sub('[.]', ' ', str(x)))"
   ]
  },
  {
   "cell_type": "code",
   "execution_count": null,
   "metadata": {},
   "outputs": [],
   "source": [
    "df['question'][0]"
   ]
  },
  {
   "cell_type": "markdown",
   "metadata": {},
   "source": [
    "### title"
   ]
  },
  {
   "cell_type": "code",
   "execution_count": null,
   "metadata": {},
   "outputs": [],
   "source": [
    "#모든 특수문자 리스트\n",
    "l = []\n",
    "l = df['title'].apply(lambda x: re.findall('[^가-힣a-zA-Z0-9_\\n\\(\\) ,.]', str(x)))"
   ]
  },
  {
   "cell_type": "code",
   "execution_count": null,
   "metadata": {},
   "outputs": [],
   "source": [
    "ss = set()\n",
    "for i in l:\n",
    "    ss = ss | set(i)\n",
    "ss = list(ss)"
   ]
  },
  {
   "cell_type": "code",
   "execution_count": null,
   "metadata": {},
   "outputs": [],
   "source": [
    "last = str()\n",
    "for k in ss:\n",
    "    last += k"
   ]
  },
  {
   "cell_type": "code",
   "execution_count": null,
   "metadata": {},
   "outputs": [],
   "source": [
    "#최종적인 특수문자 리스트\n",
    "last"
   ]
  },
  {
   "cell_type": "code",
   "execution_count": null,
   "metadata": {},
   "outputs": [],
   "source": [
    "#추가할 특수기호가 있으면 []사이에 추가하면 됨!\n",
    "df['title'] = df['title'].apply(lambda x: re.sub('[▶①♡@ㅅ’#②］❓ㅌＢ;ㅡ!`/\"？ㅠㄷㅂ‘ㅈ甲̈ㅣㄴ件※~ㅓㅋ*ㅏ̊‥［ㄹᆢ̐→有^•&“ㅎㅇ★ㅖＫㅜ₩×+ㄱ\\'=ㆍㅛ·ㅁㅊㅔ?%>”ㅆ<:]', '', str(x)))"
   ]
  },
  {
   "cell_type": "code",
   "execution_count": null,
   "metadata": {},
   "outputs": [],
   "source": [
    "#괄호는 띄어쓰기 하나로 바꿈\n",
    "df['title'] = df['title'].apply(lambda x: re.sub('[\\(\\)]', ' ', str(x)))\n",
    "df['title'] = df['title'].apply(lambda x: re.sub('[\\[]', ' ', str(x)))\n",
    "df['title'] = df['title'].apply(lambda x: re.sub('[\\]]', ' ', str(x)))\n",
    "df['title'] = df['title'].apply(lambda x: re.sub('[,]', ' ', str(x)))\n",
    "df['title'] = df['title'].apply(lambda x: re.sub('[.]', ' ', str(x)))"
   ]
  },
  {
   "cell_type": "code",
   "execution_count": null,
   "metadata": {},
   "outputs": [],
   "source": [
    "df.head()"
   ]
  },
  {
   "cell_type": "markdown",
   "metadata": {},
   "source": [
    "# 전처리 확인"
   ]
  },
  {
   "cell_type": "markdown",
   "metadata": {},
   "source": [
    "### answer"
   ]
  },
  {
   "cell_type": "code",
   "execution_count": null,
   "metadata": {},
   "outputs": [],
   "source": [
    "import re"
   ]
  },
  {
   "cell_type": "code",
   "execution_count": null,
   "metadata": {},
   "outputs": [],
   "source": [
    "#모든 특수문자 리스트\n",
    "l = []\n",
    "l = df['answer'].apply(lambda x: re.findall('[^가-힣a-zA-Z0-9 ]', str(x)))"
   ]
  },
  {
   "cell_type": "code",
   "execution_count": null,
   "metadata": {},
   "outputs": [],
   "source": [
    "ss = set()\n",
    "for i in l:\n",
    "    ss = ss | set(i)"
   ]
  },
  {
   "cell_type": "code",
   "execution_count": null,
   "metadata": {},
   "outputs": [],
   "source": [
    "ss = list(ss)"
   ]
  },
  {
   "cell_type": "code",
   "execution_count": null,
   "metadata": {},
   "outputs": [],
   "source": [
    "last = str()\n",
    "for k in ss:\n",
    "    last += k"
   ]
  },
  {
   "cell_type": "code",
   "execution_count": null,
   "metadata": {},
   "outputs": [],
   "source": [
    "#최종적인 특수문자 리스트\n",
    "last"
   ]
  },
  {
   "cell_type": "code",
   "execution_count": null,
   "metadata": {},
   "outputs": [],
   "source": [
    "#추가할 특수기호가 있으면 []사이에 추가하면 됨!\n",
    "df['answer'] = df['answer'].apply(lambda x: re.sub('[\\\\-_\\\\\\]', '', str(x)))"
   ]
  },
  {
   "cell_type": "code",
   "execution_count": null,
   "metadata": {},
   "outputs": [],
   "source": [
    "#모든 특수문자 리스트-> 아무것도 없어야 특수문자가 잘 제거됨\n",
    "l = []\n",
    "l = df['answer'].apply(lambda x: re.findall('[^가-힣a-zA-Z0-9 ]', str(x)))\n",
    "\n",
    "ss = set()\n",
    "for i in l:\n",
    "    ss = ss | set(i)\n",
    "ss = list(ss)\n",
    "\n",
    "last = str()\n",
    "for k in ss:\n",
    "    last += k\n",
    "\n",
    "print(last)"
   ]
  },
  {
   "cell_type": "markdown",
   "metadata": {},
   "source": [
    "### question"
   ]
  },
  {
   "cell_type": "code",
   "execution_count": null,
   "metadata": {},
   "outputs": [],
   "source": [
    "#모든 특수문자 리스트\n",
    "l = []\n",
    "l = df['question'].apply(lambda x: re.findall('[^가-힣a-zA-Z0-9 ]', str(x)))"
   ]
  },
  {
   "cell_type": "code",
   "execution_count": null,
   "metadata": {},
   "outputs": [],
   "source": [
    "ss = set()\n",
    "for i in l:\n",
    "    ss = ss | set(i)\n",
    "ss = list(ss)"
   ]
  },
  {
   "cell_type": "code",
   "execution_count": null,
   "metadata": {},
   "outputs": [],
   "source": [
    "last = str()\n",
    "for k in ss:\n",
    "    last += k"
   ]
  },
  {
   "cell_type": "code",
   "execution_count": null,
   "metadata": {},
   "outputs": [],
   "source": [
    "#최종적인 특수문자 리스트\n",
    "last"
   ]
  },
  {
   "cell_type": "code",
   "execution_count": null,
   "metadata": {},
   "outputs": [],
   "source": [
    "#추가할 특수기호가 있으면 []사이에 추가하면 됨!\n",
    "df['question'] = df['question'].apply(lambda x: re.sub('[\\\\-_\\\\\\]', '', str(x)))"
   ]
  },
  {
   "cell_type": "code",
   "execution_count": null,
   "metadata": {},
   "outputs": [],
   "source": [
    "l = []\n",
    "l = df['question'].apply(lambda x: re.findall('[^가-힣a-zA-Z0-9 ]', str(x)))\n",
    "\n",
    "ss = set()\n",
    "for i in l:\n",
    "    ss = ss | set(i)\n",
    "ss = list(ss)\n",
    "\n",
    "last = str()\n",
    "for k in ss:\n",
    "    last += k\n",
    "    \n",
    "print(last)"
   ]
  },
  {
   "cell_type": "markdown",
   "metadata": {},
   "source": [
    "### title"
   ]
  },
  {
   "cell_type": "code",
   "execution_count": null,
   "metadata": {},
   "outputs": [],
   "source": [
    "#모든 특수문자 리스트\n",
    "l = []\n",
    "l = df['title'].apply(lambda x: re.findall('[^가-힣a-zA-Z0-9 ]', str(x)))"
   ]
  },
  {
   "cell_type": "code",
   "execution_count": null,
   "metadata": {},
   "outputs": [],
   "source": [
    "ss = set()\n",
    "for i in l:\n",
    "    ss = ss | set(i)\n",
    "ss = list(ss)"
   ]
  },
  {
   "cell_type": "code",
   "execution_count": null,
   "metadata": {},
   "outputs": [],
   "source": [
    "last = str()\n",
    "for k in ss:\n",
    "    last += k"
   ]
  },
  {
   "cell_type": "code",
   "execution_count": null,
   "metadata": {},
   "outputs": [],
   "source": [
    "#최종적인 특수문자 리스트\n",
    "last"
   ]
  },
  {
   "cell_type": "code",
   "execution_count": null,
   "metadata": {},
   "outputs": [],
   "source": [
    "#추가할 특수기호가 있으면 []사이에 추가하면 됨!\n",
    "df['title'] = df['title'].apply(lambda x: re.sub('[-_]', '', str(x)))"
   ]
  },
  {
   "cell_type": "code",
   "execution_count": null,
   "metadata": {},
   "outputs": [],
   "source": [
    "#모든 특수문자 리스트\n",
    "l = []\n",
    "l = df['title'].apply(lambda x: re.findall('[^가-힣a-zA-Z0-9 ]', str(x)))\n",
    "\n",
    "ss = set()\n",
    "for i in l:\n",
    "    ss = ss | set(i)\n",
    "ss = list(ss)\n",
    "\n",
    "last = str()\n",
    "for k in ss:\n",
    "    last += k\n",
    "print(last)"
   ]
  },
  {
   "cell_type": "markdown",
   "metadata": {},
   "source": [
    "### 세 칼럼 합쳐서 확인"
   ]
  },
  {
   "cell_type": "code",
   "execution_count": null,
   "metadata": {},
   "outputs": [],
   "source": [
    "df['all'] = df.title + df.answer + df.question"
   ]
  },
  {
   "cell_type": "code",
   "execution_count": null,
   "metadata": {},
   "outputs": [],
   "source": [
    "l = []\n",
    "l = df['all'].apply(lambda x: re.findall('[^가-힣a-zA-Z0-9 ]', str(x)))\n",
    "\n",
    "ss = set()\n",
    "for i in l:\n",
    "    ss = ss | set(i)\n",
    "ss = list(ss)\n",
    "\n",
    "last = str()\n",
    "for k in ss:\n",
    "    last += k\n",
    "    \n",
    "print(last)"
   ]
  },
  {
   "cell_type": "code",
   "execution_count": null,
   "metadata": {},
   "outputs": [],
   "source": []
  },
  {
   "cell_type": "code",
   "execution_count": null,
   "metadata": {},
   "outputs": [],
   "source": []
  },
  {
   "cell_type": "code",
   "execution_count": null,
   "metadata": {},
   "outputs": [],
   "source": []
  }
 ],
 "metadata": {
  "kernelspec": {
   "display_name": "Python 3",
   "language": "python",
   "name": "python3"
  },
  "language_info": {
   "codemirror_mode": {
    "name": "ipython",
    "version": 3
   },
   "file_extension": ".py",
   "mimetype": "text/x-python",
   "name": "python",
   "nbconvert_exporter": "python",
   "pygments_lexer": "ipython3",
   "version": "3.7.3"
  }
 },
 "nbformat": 4,
 "nbformat_minor": 2
}
